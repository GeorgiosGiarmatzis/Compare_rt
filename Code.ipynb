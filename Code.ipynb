{
 "cells": [
  {
   "cell_type": "markdown",
   "metadata": {},
   "source": [
    "# The script compares the output variables from standard Opensim offline workflow with the ones from the realtime calculations. This is done mainly by plotting ensemble curves and performing statistical analysis"
   ]
  },
  {
   "cell_type": "code",
   "execution_count": 2,
   "metadata": {},
   "outputs": [
    {
     "data": {
      "text/plain": [
       "'/home/tzakis/Documents/PostDoc/Compare_rt/Compare_rt-master'"
      ]
     },
     "execution_count": 2,
     "metadata": {},
     "output_type": "execute_result"
    }
   ],
   "source": [
    "from IPython import get_ipython\n",
    "get_ipython().magic('reset -sf')\n",
    "%matplotlib inline\n",
    "import pandas as pd\n",
    "import os\n",
    "import matplotlib.pyplot as plt\n",
    "import numpy as np\n",
    "from numpy import array\n",
    "import scipy\n",
    "\n",
    "#import sys\n",
    "#sys.path.insert(0, os.path.abspath('D:\\LocalDisk\\Research\\Opensim\\RealTime\\Scripts'))\n",
    "import readMotionFile\n",
    "import visualize\n",
    "#os.chdir('D:\\LocalDisk\\Research\\Opensim\\RealTime\\\\results_rt\\\\results_rt\\\\')\n",
    "cwd=os.getcwd()\n",
    "cwd\n"
   ]
  },
  {
   "cell_type": "markdown",
   "metadata": {},
   "source": [
    "## Load the variables from real time\n",
    "**Import the csv file of the filtered joint angles (ja_rt)**"
   ]
  },
  {
   "cell_type": "code",
   "execution_count": 3,
   "metadata": {},
   "outputs": [],
   "source": [
    "os.chdir(cwd+'/Data/results_rt_TR_3') # chanhe working directory\n",
    "ja_rt = pd.read_csv('q_filtered.csv')"
   ]
  },
  {
   "cell_type": "markdown",
   "metadata": {},
   "source": [
    "Capture the knee flexion angle and transform it in degrees"
   ]
  },
  {
   "cell_type": "code",
   "execution_count": 4,
   "metadata": {},
   "outputs": [],
   "source": [
    "data_rad = ja_rt['knee_angle_r']\n",
    "time = ja_rt['time']\n",
    "#print(time)\n",
    "data_degrees = (data_rad*180)/np.pi"
   ]
  },
  {
   "cell_type": "markdown",
   "metadata": {},
   "source": [
    "Plot the knee angle as degrees"
   ]
  },
  {
   "cell_type": "code",
   "execution_count": 5,
   "metadata": {},
   "outputs": [],
   "source": [
    "#plt.plot(time,data_degrees*-1)"
   ]
  },
  {
   "cell_type": "markdown",
   "metadata": {},
   "source": [
    "**Now load the joint moments (jm_rt)**"
   ]
  },
  {
   "cell_type": "code",
   "execution_count": 6,
   "metadata": {},
   "outputs": [],
   "source": [
    "#import opensim\n",
    "#model = opensim.Model(cwd+'/Data/Esther_Hamn.osim')\n",
    "#model.setUseVisualizer(True)\n",
    "#state = model.initSystem()\n",
    "#model.getVisualizer().show(state) # todo: run the IK solution in the visualizer\n"
   ]
  },
  {
   "cell_type": "code",
   "execution_count": 7,
   "metadata": {},
   "outputs": [
    {
     "data": {
      "text/html": [
       "<div>\n",
       "<style scoped>\n",
       "    .dataframe tbody tr th:only-of-type {\n",
       "        vertical-align: middle;\n",
       "    }\n",
       "\n",
       "    .dataframe tbody tr th {\n",
       "        vertical-align: top;\n",
       "    }\n",
       "\n",
       "    .dataframe thead th {\n",
       "        text-align: right;\n",
       "    }\n",
       "</style>\n",
       "<table border=\"1\" class=\"dataframe\">\n",
       "  <thead>\n",
       "    <tr style=\"text-align: right;\">\n",
       "      <th></th>\n",
       "      <th>time</th>\n",
       "      <th>pelvis_tilt</th>\n",
       "      <th>pelvis_list</th>\n",
       "      <th>pelvis_rotation</th>\n",
       "      <th>pelvis_tx</th>\n",
       "      <th>pelvis_ty</th>\n",
       "      <th>pelvis_tz</th>\n",
       "      <th>hip_flexion_r</th>\n",
       "      <th>hip_adduction_r</th>\n",
       "      <th>hip_rotation_r</th>\n",
       "      <th>...</th>\n",
       "      <th>pro_sup_r</th>\n",
       "      <th>wrist_flex_r</th>\n",
       "      <th>wrist_dev_r</th>\n",
       "      <th>arm_flex_l</th>\n",
       "      <th>arm_add_l</th>\n",
       "      <th>arm_rot_l</th>\n",
       "      <th>elbow_flex_l</th>\n",
       "      <th>pro_sup_l</th>\n",
       "      <th>wrist_flex_l</th>\n",
       "      <th>wrist_dev_l</th>\n",
       "    </tr>\n",
       "  </thead>\n",
       "  <tbody>\n",
       "    <tr>\n",
       "      <th>0</th>\n",
       "      <td>0.90</td>\n",
       "      <td>3.80601</td>\n",
       "      <td>-109.08100</td>\n",
       "      <td>25.91790</td>\n",
       "      <td>-12.28850</td>\n",
       "      <td>-23.3508</td>\n",
       "      <td>17.262200</td>\n",
       "      <td>31.19390</td>\n",
       "      <td>-32.5240</td>\n",
       "      <td>14.07950</td>\n",
       "      <td>...</td>\n",
       "      <td>-0.007249</td>\n",
       "      <td>-0.034830</td>\n",
       "      <td>0.074835</td>\n",
       "      <td>2.263660</td>\n",
       "      <td>-2.165660</td>\n",
       "      <td>-0.162947</td>\n",
       "      <td>-1.95140</td>\n",
       "      <td>-0.056017</td>\n",
       "      <td>-0.124315</td>\n",
       "      <td>-0.208265</td>\n",
       "    </tr>\n",
       "    <tr>\n",
       "      <th>1</th>\n",
       "      <td>0.96</td>\n",
       "      <td>16.07250</td>\n",
       "      <td>62.57550</td>\n",
       "      <td>-3.57053</td>\n",
       "      <td>-9.78142</td>\n",
       "      <td>-43.7574</td>\n",
       "      <td>16.488000</td>\n",
       "      <td>41.12170</td>\n",
       "      <td>21.0171</td>\n",
       "      <td>7.56704</td>\n",
       "      <td>...</td>\n",
       "      <td>-0.017384</td>\n",
       "      <td>-0.042614</td>\n",
       "      <td>0.015789</td>\n",
       "      <td>1.557550</td>\n",
       "      <td>-2.463880</td>\n",
       "      <td>-0.229701</td>\n",
       "      <td>-1.76913</td>\n",
       "      <td>-0.056214</td>\n",
       "      <td>-0.147568</td>\n",
       "      <td>-0.186554</td>\n",
       "    </tr>\n",
       "    <tr>\n",
       "      <th>2</th>\n",
       "      <td>1.02</td>\n",
       "      <td>-3.10896</td>\n",
       "      <td>-77.94060</td>\n",
       "      <td>32.42640</td>\n",
       "      <td>33.46660</td>\n",
       "      <td>-13.8234</td>\n",
       "      <td>0.361226</td>\n",
       "      <td>6.98135</td>\n",
       "      <td>-95.2976</td>\n",
       "      <td>12.93760</td>\n",
       "      <td>...</td>\n",
       "      <td>-0.022391</td>\n",
       "      <td>-0.065396</td>\n",
       "      <td>-0.013471</td>\n",
       "      <td>0.923230</td>\n",
       "      <td>-2.324450</td>\n",
       "      <td>-0.229889</td>\n",
       "      <td>-1.34847</td>\n",
       "      <td>-0.043826</td>\n",
       "      <td>-0.129357</td>\n",
       "      <td>-0.124287</td>\n",
       "    </tr>\n",
       "    <tr>\n",
       "      <th>3</th>\n",
       "      <td>1.09</td>\n",
       "      <td>17.64220</td>\n",
       "      <td>8.84109</td>\n",
       "      <td>-6.15300</td>\n",
       "      <td>24.10360</td>\n",
       "      <td>-35.8054</td>\n",
       "      <td>6.110810</td>\n",
       "      <td>19.21670</td>\n",
       "      <td>35.4884</td>\n",
       "      <td>-19.44210</td>\n",
       "      <td>...</td>\n",
       "      <td>-0.035660</td>\n",
       "      <td>-0.028789</td>\n",
       "      <td>-0.065465</td>\n",
       "      <td>0.542534</td>\n",
       "      <td>-0.922586</td>\n",
       "      <td>-0.102834</td>\n",
       "      <td>-1.16123</td>\n",
       "      <td>-0.034683</td>\n",
       "      <td>-0.061931</td>\n",
       "      <td>-0.107000</td>\n",
       "    </tr>\n",
       "    <tr>\n",
       "      <th>4</th>\n",
       "      <td>1.15</td>\n",
       "      <td>18.66880</td>\n",
       "      <td>6.43449</td>\n",
       "      <td>13.12820</td>\n",
       "      <td>3.59835</td>\n",
       "      <td>-46.4173</td>\n",
       "      <td>14.478700</td>\n",
       "      <td>8.84451</td>\n",
       "      <td>-18.5754</td>\n",
       "      <td>11.43790</td>\n",
       "      <td>...</td>\n",
       "      <td>-0.027112</td>\n",
       "      <td>0.011121</td>\n",
       "      <td>-0.093665</td>\n",
       "      <td>-0.022048</td>\n",
       "      <td>-0.243190</td>\n",
       "      <td>-0.040329</td>\n",
       "      <td>-1.10010</td>\n",
       "      <td>-0.036075</td>\n",
       "      <td>-0.040002</td>\n",
       "      <td>-0.105458</td>\n",
       "    </tr>\n",
       "  </tbody>\n",
       "</table>\n",
       "<p>5 rows × 38 columns</p>\n",
       "</div>"
      ],
      "text/plain": [
       "   time  pelvis_tilt  pelvis_list  pelvis_rotation  pelvis_tx  pelvis_ty  \\\n",
       "0  0.90      3.80601   -109.08100         25.91790  -12.28850   -23.3508   \n",
       "1  0.96     16.07250     62.57550         -3.57053   -9.78142   -43.7574   \n",
       "2  1.02     -3.10896    -77.94060         32.42640   33.46660   -13.8234   \n",
       "3  1.09     17.64220      8.84109         -6.15300   24.10360   -35.8054   \n",
       "4  1.15     18.66880      6.43449         13.12820    3.59835   -46.4173   \n",
       "\n",
       "   pelvis_tz  hip_flexion_r  hip_adduction_r  hip_rotation_r  ...  pro_sup_r  \\\n",
       "0  17.262200       31.19390         -32.5240        14.07950  ...  -0.007249   \n",
       "1  16.488000       41.12170          21.0171         7.56704  ...  -0.017384   \n",
       "2   0.361226        6.98135         -95.2976        12.93760  ...  -0.022391   \n",
       "3   6.110810       19.21670          35.4884       -19.44210  ...  -0.035660   \n",
       "4  14.478700        8.84451         -18.5754        11.43790  ...  -0.027112   \n",
       "\n",
       "   wrist_flex_r  wrist_dev_r  arm_flex_l  arm_add_l  arm_rot_l  elbow_flex_l  \\\n",
       "0     -0.034830     0.074835    2.263660  -2.165660  -0.162947      -1.95140   \n",
       "1     -0.042614     0.015789    1.557550  -2.463880  -0.229701      -1.76913   \n",
       "2     -0.065396    -0.013471    0.923230  -2.324450  -0.229889      -1.34847   \n",
       "3     -0.028789    -0.065465    0.542534  -0.922586  -0.102834      -1.16123   \n",
       "4      0.011121    -0.093665   -0.022048  -0.243190  -0.040329      -1.10010   \n",
       "\n",
       "   pro_sup_l  wrist_flex_l  wrist_dev_l  \n",
       "0  -0.056017     -0.124315    -0.208265  \n",
       "1  -0.056214     -0.147568    -0.186554  \n",
       "2  -0.043826     -0.129357    -0.124287  \n",
       "3  -0.034683     -0.061931    -0.107000  \n",
       "4  -0.036075     -0.040002    -0.105458  \n",
       "\n",
       "[5 rows x 38 columns]"
      ]
     },
     "execution_count": 7,
     "metadata": {},
     "output_type": "execute_result"
    }
   ],
   "source": [
    "jm_rt = pd.read_csv('tau.csv')\n",
    "jm_rt.head()"
   ]
  },
  {
   "cell_type": "markdown",
   "metadata": {},
   "source": [
    "Plot the knee moment"
   ]
  },
  {
   "cell_type": "code",
   "execution_count": 8,
   "metadata": {},
   "outputs": [],
   "source": [
    "#plt.plot(time,jm_rt.knee_angle_r)\n"
   ]
  },
  {
   "cell_type": "markdown",
   "metadata": {
    "collapsed": true
   },
   "source": [
    "Load the static optimization force results (sof) and plot the glut_med force"
   ]
  },
  {
   "cell_type": "code",
   "execution_count": 9,
   "metadata": {},
   "outputs": [],
   "source": [
    "sof = pd.read_csv('so.csv')"
   ]
  },
  {
   "cell_type": "code",
   "execution_count": 10,
   "metadata": {},
   "outputs": [],
   "source": [
    "#plt.plot(time,sof.glut_med1_r)"
   ]
  },
  {
   "cell_type": "markdown",
   "metadata": {},
   "source": [
    "Load the joint reaction forces (jrf) results (sof) and plot the vertical hip contact force"
   ]
  },
  {
   "cell_type": "code",
   "execution_count": 11,
   "metadata": {},
   "outputs": [],
   "source": [
    "jrf = pd.read_csv('jr.csv')\n",
    "#plt.plot(time,jrf.hip_r_on_femur_r_in_ground_fy*-1)"
   ]
  },
  {
   "cell_type": "markdown",
   "metadata": {},
   "source": [
    "# Now we load the offline data"
   ]
  },
  {
   "cell_type": "code",
   "execution_count": 12,
   "metadata": {},
   "outputs": [],
   "source": [
    "os.chdir(cwd+'/Data/Offline/')\n",
    "header, labels, data = readMotionFile.read('TR_3_IK_Esther.mot')\n",
    "index = labels.index('knee_angle_r')\n",
    "ja_offline = pd.DataFrame(data,columns = labels)\n",
    "data = ja_offline['knee_angle_r']\n",
    "time = ja_offline['time']\n",
    "#print(time)"
   ]
  },
  {
   "cell_type": "code",
   "execution_count": null,
   "metadata": {},
   "outputs": [],
   "source": []
  },
  {
   "cell_type": "markdown",
   "metadata": {},
   "source": [
    "Plot the knee angle"
   ]
  },
  {
   "cell_type": "code",
   "execution_count": 13,
   "metadata": {},
   "outputs": [],
   "source": [
    "#plt.plot(time,data[:,index]*-1)"
   ]
  },
  {
   "cell_type": "code",
   "execution_count": 14,
   "metadata": {},
   "outputs": [],
   "source": [
    "header, labels, data = readMotionFile.read('TR_3_ID_Esther.sto')\n",
    "index = labels.index('knee_angle_r_moment')\n",
    "#data = array(data)\n",
    "#time = data[:,0]"
   ]
  },
  {
   "cell_type": "markdown",
   "metadata": {},
   "source": [
    "Plot the knee moment arm"
   ]
  },
  {
   "cell_type": "code",
   "execution_count": 15,
   "metadata": {},
   "outputs": [],
   "source": [
    "#plt.plot(time,data[:,index])"
   ]
  },
  {
   "cell_type": "markdown",
   "metadata": {
    "collapsed": true
   },
   "source": [
    "# At this point we see that the time stamps of the two cases are very different to each other. Data are practically missing in the real time scenario, due to calculations lag. So we need some data interpolation techniques in order to perform statistical analysis later"
   ]
  },
  {
   "cell_type": "code",
   "execution_count": 16,
   "metadata": {},
   "outputs": [],
   "source": [
    "time = ja_rt['time']\n",
    "time = time.round(2) # convert float to integers and then round them to the second integer\n",
    "#print(time)\n",
    "#type(time)\n"
   ]
  },
  {
   "cell_type": "code",
   "execution_count": 17,
   "metadata": {},
   "outputs": [],
   "source": [
    "ja_rt_append = ja_rt"
   ]
  },
  {
   "cell_type": "code",
   "execution_count": 18,
   "metadata": {},
   "outputs": [
    {
     "name": "stdout",
     "output_type": "stream",
     "text": [
      "(90, 1043)\n"
     ]
    }
   ],
   "source": [
    "time = ja_rt_append['time']\n",
    "tm1 = time.iloc[0]\n",
    "tm2 = time.iloc[-1]\n",
    "time = ja_offline['time']\n",
    "time_list = time.values.tolist()\n",
    "idx1 = time_list.index(tm1)\n",
    "idx2 = time_list.index(tm2)\n",
    "print(idx1,idx2)"
   ]
  },
  {
   "cell_type": "code",
   "execution_count": 19,
   "metadata": {},
   "outputs": [
    {
     "data": {
      "text/plain": [
       "953"
      ]
     },
     "execution_count": 19,
     "metadata": {},
     "output_type": "execute_result"
    }
   ],
   "source": [
    "length=len(ja_offline['time'][idx1:idx2])\n",
    "length\n"
   ]
  },
  {
   "cell_type": "code",
   "execution_count": 20,
   "metadata": {},
   "outputs": [],
   "source": [
    "i=0\n",
    "length=len(ja_offline['time'][idx1:idx2])\n",
    "while len(time) <= int(length):\n",
    "    \n",
    "    for i in range(len(time)-1):\n",
    "        diff = round(time[i+1]-time[i],2)\n",
    "        if not diff == 0.01:\n",
    "        #create dataframe to be appended\n",
    "            rows_append = int(diff*100-1)\n",
    "            data = np.empty((rows_append,ja_rt_append.shape[1],))\n",
    "            data[:] = np.nan\n",
    "            for k in np.arange(rows_append):\n",
    "                data[k,0] = time[i]+0.01*k+0.01\n",
    "            new_dataframe = pd.DataFrame(data,columns=ja_rt_append.columns)\n",
    "            insertion_point = i\n",
    "            a = ja_rt_append.iloc[:insertion_point+1]\n",
    "            b = new_dataframe\n",
    "            c = ja_rt_append.iloc[insertion_point+1:]\n",
    "            ja_rt_append = pd.concat([a,b,c],ignore_index=True)\n",
    "        time = ja_rt_append['time']\n",
    "    \n",
    "    \n"
   ]
  },
  {
   "cell_type": "markdown",
   "metadata": {},
   "source": [
    "# Interpolation techiques"
   ]
  },
  {
   "cell_type": "code",
   "execution_count": null,
   "metadata": {},
   "outputs": [],
   "source": [
    "pd.set_option('display.max_rows', ja_rt_append.shape[0]+1)\n"
   ]
  },
  {
   "cell_type": "code",
   "execution_count": 21,
   "metadata": {},
   "outputs": [],
   "source": [
    "ja_rt_append_inter_lin = ja_rt_append.interpolate(axis=0)\n"
   ]
  },
  {
   "cell_type": "code",
   "execution_count": 22,
   "metadata": {},
   "outputs": [],
   "source": [
    "ja_rt_append_inter_splin = ja_rt_append.interpolate(method ='spline',order = 2,axis=0)\n"
   ]
  },
  {
   "cell_type": "code",
   "execution_count": 24,
   "metadata": {},
   "outputs": [],
   "source": [
    "ja_rt_append_inter_poly = ja_rt_append.interpolate(method ='polynomial',order = 2,axis=0)\n"
   ]
  },
  {
   "cell_type": "markdown",
   "metadata": {},
   "source": [
    "# Plot the different interpolation techniques in one gait cycle"
   ]
  },
  {
   "cell_type": "code",
   "execution_count": 43,
   "metadata": {},
   "outputs": [
    {
     "data": {
      "image/png": "[encoded data removed]",
      "text/plain": [
       "<Figure size 720x288 with 1 Axes>"
      ]
     },
     "metadata": {
      "needs_background": "light"
     },
     "output_type": "display_data"
    }
   ],
   "source": [
    "plt.plot(ja_rt_append_inter_lin['hip_adduction_r'], 'r',label='linear') \n",
    "plt.plot(ja_rt_append_inter_splin['hip_adduction_r'], 'b',label = 'spline')   \n",
    "plt.plot(ja_rt_append_inter_poly['hip_adduction_r'], 'g',label = 'polynomial')  \n",
    "plt.legend()\n",
    "plt.show()\n",
    "fig_size = plt.rcParams[\"figure.figsize\"]\n",
    "fig_size[0] = 10\n",
    "fig_size[1] = 8\n",
    "plt.rcParams[\"figure.figsize\"] = fig_size"
   ]
  },
  {
   "cell_type": "markdown",
   "metadata": {},
   "source": [
    "# Conclusion: basic techniques have the same result\n",
    "## we continue with the statistical comparison per trial per cycle\n"
   ]
  },
  {
   "cell_type": "code",
   "execution_count": null,
   "metadata": {},
   "outputs": [],
   "source": []
  },
  {
   "cell_type": "code",
   "execution_count": null,
   "metadata": {},
   "outputs": [],
   "source": []
  }
 ],
 "metadata": {
  "kernelspec": {
   "display_name": "Python 2",
   "language": "python",
   "name": "python2"
  },
  "language_info": {
   "codemirror_mode": {
    "name": "ipython",
    "version": 2
   },
   "file_extension": ".py",
   "mimetype": "text/x-python",
   "name": "python",
   "nbconvert_exporter": "python",
   "pygments_lexer": "ipython2",
   "version": "2.7.17"
  }
 },
 "nbformat": 4,
 "nbformat_minor": 1
}
