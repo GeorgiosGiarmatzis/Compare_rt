{
 "cells": [
  {
   "cell_type": "markdown",
   "metadata": {},
   "source": [
    "# The script compares the output variables from standard Opensim offline workflow with the ones from the realtime calculations. This is done mainly by plotting ensemble curves and perfroming statistical analysis"
   ]
  },
  {
   "cell_type": "code",
   "execution_count": 34,
   "metadata": {
    "collapsed": false
   },
   "outputs": [
    {
     "data": {
      "text/plain": [
       "'D:\\\\LocalDisk\\\\Research\\\\Opensim\\\\RealTime\\\\results_rt\\\\results_rt'"
      ]
     },
     "execution_count": 34,
     "metadata": {},
     "output_type": "execute_result"
    }
   ],
   "source": [
    "%matplotlib inline\n",
    "import pandas as pd\n",
    "import os\n",
    "import matplotlib.pyplot as plt\n",
    "import numpy as np\n",
    "\n",
    "os.chdir('D:\\LocalDisk\\Research\\Opensim\\RealTime\\\\results_rt\\\\results_rt\\\\')\n",
    "os.getcwd()"
   ]
  },
  {
   "cell_type": "markdown",
   "metadata": {},
   "source": [
    "## Load the variables from real time\n",
    "**Import the csv file of the filtered joint angles (ja_rt)**"
   ]
  },
  {
   "cell_type": "code",
   "execution_count": 31,
   "metadata": {
    "collapsed": false
   },
   "outputs": [],
   "source": [
    "ja_rt = pd.read_csv('q_filtered.csv')"
   ]
  },
  {
   "cell_type": "code",
   "execution_count": 32,
   "metadata": {
    "collapsed": false
   },
   "outputs": [
    {
     "data": {
      "text/html": [
       "<div>\n",
       "<table border=\"1\" class=\"dataframe\">\n",
       "  <thead>\n",
       "    <tr style=\"text-align: right;\">\n",
       "      <th></th>\n",
       "      <th>time</th>\n",
       "      <th>pelvis_tilt</th>\n",
       "      <th>pelvis_list</th>\n",
       "      <th>pelvis_rotation</th>\n",
       "      <th>pelvis_tx</th>\n",
       "      <th>pelvis_ty</th>\n",
       "      <th>pelvis_tz</th>\n",
       "      <th>hip_flexion_r</th>\n",
       "      <th>hip_adduction_r</th>\n",
       "      <th>hip_rotation_r</th>\n",
       "      <th>...</th>\n",
       "      <th>pro_sup_r</th>\n",
       "      <th>wrist_flex_r</th>\n",
       "      <th>wrist_dev_r</th>\n",
       "      <th>arm_flex_l</th>\n",
       "      <th>arm_add_l</th>\n",
       "      <th>arm_rot_l</th>\n",
       "      <th>elbow_flex_l</th>\n",
       "      <th>pro_sup_l</th>\n",
       "      <th>wrist_flex_l</th>\n",
       "      <th>wrist_dev_l</th>\n",
       "    </tr>\n",
       "  </thead>\n",
       "  <tbody>\n",
       "    <tr>\n",
       "      <th>0</th>\n",
       "      <td>0.90</td>\n",
       "      <td>0.094348</td>\n",
       "      <td>-0.029027</td>\n",
       "      <td>0.087735</td>\n",
       "      <td>-0.057197</td>\n",
       "      <td>0.867380</td>\n",
       "      <td>2.62858</td>\n",
       "      <td>-0.289040</td>\n",
       "      <td>0.074305</td>\n",
       "      <td>-0.270099</td>\n",
       "      <td>...</td>\n",
       "      <td>1.00684</td>\n",
       "      <td>-1.060940e-07</td>\n",
       "      <td>-1.791530e-07</td>\n",
       "      <td>-0.344674</td>\n",
       "      <td>-0.191209</td>\n",
       "      <td>2.79622</td>\n",
       "      <td>-0.316815</td>\n",
       "      <td>-0.923499</td>\n",
       "      <td>2.856350e-07</td>\n",
       "      <td>8.545080e-08</td>\n",
       "    </tr>\n",
       "    <tr>\n",
       "      <th>1</th>\n",
       "      <td>0.96</td>\n",
       "      <td>0.106959</td>\n",
       "      <td>-0.000901</td>\n",
       "      <td>0.084937</td>\n",
       "      <td>-0.050808</td>\n",
       "      <td>0.870936</td>\n",
       "      <td>2.61258</td>\n",
       "      <td>-0.287019</td>\n",
       "      <td>0.014555</td>\n",
       "      <td>-0.226741</td>\n",
       "      <td>...</td>\n",
       "      <td>1.06596</td>\n",
       "      <td>-2.027460e-08</td>\n",
       "      <td>-3.111800e-07</td>\n",
       "      <td>-0.345043</td>\n",
       "      <td>-0.171038</td>\n",
       "      <td>2.77746</td>\n",
       "      <td>-0.308577</td>\n",
       "      <td>-0.945555</td>\n",
       "      <td>3.501600e-07</td>\n",
       "      <td>1.302510e-07</td>\n",
       "    </tr>\n",
       "    <tr>\n",
       "      <th>2</th>\n",
       "      <td>1.02</td>\n",
       "      <td>0.104675</td>\n",
       "      <td>0.027830</td>\n",
       "      <td>0.061761</td>\n",
       "      <td>-0.048660</td>\n",
       "      <td>0.877193</td>\n",
       "      <td>2.59859</td>\n",
       "      <td>-0.160124</td>\n",
       "      <td>-0.056661</td>\n",
       "      <td>-0.156149</td>\n",
       "      <td>...</td>\n",
       "      <td>1.12901</td>\n",
       "      <td>1.600960e-07</td>\n",
       "      <td>-3.450510e-07</td>\n",
       "      <td>-0.305748</td>\n",
       "      <td>-0.158469</td>\n",
       "      <td>2.77360</td>\n",
       "      <td>-0.332976</td>\n",
       "      <td>-0.958597</td>\n",
       "      <td>5.258790e-07</td>\n",
       "      <td>-1.435300e-07</td>\n",
       "    </tr>\n",
       "    <tr>\n",
       "      <th>3</th>\n",
       "      <td>1.09</td>\n",
       "      <td>0.078593</td>\n",
       "      <td>0.068787</td>\n",
       "      <td>-0.000793</td>\n",
       "      <td>-0.052411</td>\n",
       "      <td>0.879782</td>\n",
       "      <td>2.58885</td>\n",
       "      <td>0.102871</td>\n",
       "      <td>-0.138291</td>\n",
       "      <td>-0.077713</td>\n",
       "      <td>...</td>\n",
       "      <td>1.22227</td>\n",
       "      <td>1.085620e-07</td>\n",
       "      <td>-4.374090e-08</td>\n",
       "      <td>-0.225974</td>\n",
       "      <td>-0.170659</td>\n",
       "      <td>2.78532</td>\n",
       "      <td>-0.385293</td>\n",
       "      <td>-0.978777</td>\n",
       "      <td>8.372340e-07</td>\n",
       "      <td>-5.229430e-08</td>\n",
       "    </tr>\n",
       "    <tr>\n",
       "      <th>4</th>\n",
       "      <td>1.15</td>\n",
       "      <td>0.073750</td>\n",
       "      <td>0.069282</td>\n",
       "      <td>-0.043699</td>\n",
       "      <td>-0.057577</td>\n",
       "      <td>0.881680</td>\n",
       "      <td>2.58407</td>\n",
       "      <td>0.276792</td>\n",
       "      <td>-0.139156</td>\n",
       "      <td>-0.058331</td>\n",
       "      <td>...</td>\n",
       "      <td>1.25536</td>\n",
       "      <td>-1.778490e-07</td>\n",
       "      <td>1.687040e-07</td>\n",
       "      <td>-0.122894</td>\n",
       "      <td>-0.196088</td>\n",
       "      <td>2.80151</td>\n",
       "      <td>-0.416850</td>\n",
       "      <td>-0.983830</td>\n",
       "      <td>1.865930e-07</td>\n",
       "      <td>2.036620e-07</td>\n",
       "    </tr>\n",
       "  </tbody>\n",
       "</table>\n",
       "<p>5 rows × 38 columns</p>\n",
       "</div>"
      ],
      "text/plain": [
       "   time  pelvis_tilt  pelvis_list  pelvis_rotation  pelvis_tx  pelvis_ty  \\\n",
       "0  0.90     0.094348    -0.029027         0.087735  -0.057197   0.867380   \n",
       "1  0.96     0.106959    -0.000901         0.084937  -0.050808   0.870936   \n",
       "2  1.02     0.104675     0.027830         0.061761  -0.048660   0.877193   \n",
       "3  1.09     0.078593     0.068787        -0.000793  -0.052411   0.879782   \n",
       "4  1.15     0.073750     0.069282        -0.043699  -0.057577   0.881680   \n",
       "\n",
       "   pelvis_tz  hip_flexion_r  hip_adduction_r  hip_rotation_r      ...       \\\n",
       "0    2.62858      -0.289040         0.074305       -0.270099      ...        \n",
       "1    2.61258      -0.287019         0.014555       -0.226741      ...        \n",
       "2    2.59859      -0.160124        -0.056661       -0.156149      ...        \n",
       "3    2.58885       0.102871        -0.138291       -0.077713      ...        \n",
       "4    2.58407       0.276792        -0.139156       -0.058331      ...        \n",
       "\n",
       "   pro_sup_r  wrist_flex_r   wrist_dev_r  arm_flex_l  arm_add_l  arm_rot_l  \\\n",
       "0    1.00684 -1.060940e-07 -1.791530e-07   -0.344674  -0.191209    2.79622   \n",
       "1    1.06596 -2.027460e-08 -3.111800e-07   -0.345043  -0.171038    2.77746   \n",
       "2    1.12901  1.600960e-07 -3.450510e-07   -0.305748  -0.158469    2.77360   \n",
       "3    1.22227  1.085620e-07 -4.374090e-08   -0.225974  -0.170659    2.78532   \n",
       "4    1.25536 -1.778490e-07  1.687040e-07   -0.122894  -0.196088    2.80151   \n",
       "\n",
       "   elbow_flex_l  pro_sup_l  wrist_flex_l   wrist_dev_l  \n",
       "0     -0.316815  -0.923499  2.856350e-07  8.545080e-08  \n",
       "1     -0.308577  -0.945555  3.501600e-07  1.302510e-07  \n",
       "2     -0.332976  -0.958597  5.258790e-07 -1.435300e-07  \n",
       "3     -0.385293  -0.978777  8.372340e-07 -5.229430e-08  \n",
       "4     -0.416850  -0.983830  1.865930e-07  2.036620e-07  \n",
       "\n",
       "[5 rows x 38 columns]"
      ]
     },
     "execution_count": 32,
     "metadata": {},
     "output_type": "execute_result"
    }
   ],
   "source": [
    "ja_rt.head()\n"
   ]
  },
  {
   "cell_type": "markdown",
   "metadata": {},
   "source": [
    "Capture the knee flexion angle and transform it in degrees"
   ]
  },
  {
   "cell_type": "code",
   "execution_count": 33,
   "metadata": {
    "collapsed": false
   },
   "outputs": [
    {
     "data": {
      "text/plain": [
       "0   -10.493550\n",
       "1   -19.502910\n",
       "2   -36.976633\n",
       "3   -58.124849\n",
       "4   -63.910004\n",
       "Name: knee_angle_r, dtype: float64"
      ]
     },
     "execution_count": 33,
     "metadata": {},
     "output_type": "execute_result"
    }
   ],
   "source": [
    "data_rad = ja_rt['knee_angle_r']\n",
    "data_degrees = (data_rad*180)/np.pi\n",
    "data_degrees.head()"
   ]
  },
  {
   "cell_type": "markdown",
   "metadata": {},
   "source": [
    "Plot the result"
   ]
  },
  {
   "cell_type": "code",
   "execution_count": 35,
   "metadata": {
    "collapsed": false
   },
   "outputs": [
    {
     "data": {
      "text/plain": [
       "[<matplotlib.lines.Line2D at 0xe17cef0>]"
      ]
     },
     "execution_count": 35,
     "metadata": {},
     "output_type": "execute_result"
    },
    {
     "data": {
      "image/png": "[encoded data removed]",
      "text/plain": [
       "<matplotlib.figure.Figure at 0xe04e5c0>"
      ]
     },
     "metadata": {},
     "output_type": "display_data"
    }
   ],
   "source": [
    "plt.plot(data_degrees)\n"
   ]
  },
  {
   "cell_type": "markdown",
   "metadata": {},
   "source": [
    "**Now load the joint moments (jm_rt)**"
   ]
  },
  {
   "cell_type": "code",
   "execution_count": 11,
   "metadata": {
    "collapsed": false
   },
   "outputs": [
    {
     "data": {
      "text/html": [
       "<div>\n",
       "<table border=\"1\" class=\"dataframe\">\n",
       "  <thead>\n",
       "    <tr style=\"text-align: right;\">\n",
       "      <th></th>\n",
       "      <th>time</th>\n",
       "      <th>pelvis_tilt</th>\n",
       "      <th>pelvis_list</th>\n",
       "      <th>pelvis_rotation</th>\n",
       "      <th>pelvis_tx</th>\n",
       "      <th>pelvis_ty</th>\n",
       "      <th>pelvis_tz</th>\n",
       "      <th>hip_flexion_r</th>\n",
       "      <th>hip_adduction_r</th>\n",
       "      <th>hip_rotation_r</th>\n",
       "      <th>...</th>\n",
       "      <th>pro_sup_r</th>\n",
       "      <th>wrist_flex_r</th>\n",
       "      <th>wrist_dev_r</th>\n",
       "      <th>arm_flex_l</th>\n",
       "      <th>arm_add_l</th>\n",
       "      <th>arm_rot_l</th>\n",
       "      <th>elbow_flex_l</th>\n",
       "      <th>pro_sup_l</th>\n",
       "      <th>wrist_flex_l</th>\n",
       "      <th>wrist_dev_l</th>\n",
       "    </tr>\n",
       "  </thead>\n",
       "  <tbody>\n",
       "    <tr>\n",
       "      <th>0</th>\n",
       "      <td>0.90</td>\n",
       "      <td>3.80601</td>\n",
       "      <td>-109.08100</td>\n",
       "      <td>25.91790</td>\n",
       "      <td>-12.28850</td>\n",
       "      <td>-23.3508</td>\n",
       "      <td>17.262200</td>\n",
       "      <td>31.19390</td>\n",
       "      <td>-32.5240</td>\n",
       "      <td>14.07950</td>\n",
       "      <td>...</td>\n",
       "      <td>-0.007249</td>\n",
       "      <td>-0.034830</td>\n",
       "      <td>0.074835</td>\n",
       "      <td>2.263660</td>\n",
       "      <td>-2.165660</td>\n",
       "      <td>-0.162947</td>\n",
       "      <td>-1.95140</td>\n",
       "      <td>-0.056017</td>\n",
       "      <td>-0.124315</td>\n",
       "      <td>-0.208265</td>\n",
       "    </tr>\n",
       "    <tr>\n",
       "      <th>1</th>\n",
       "      <td>0.96</td>\n",
       "      <td>16.07250</td>\n",
       "      <td>62.57550</td>\n",
       "      <td>-3.57053</td>\n",
       "      <td>-9.78142</td>\n",
       "      <td>-43.7574</td>\n",
       "      <td>16.488000</td>\n",
       "      <td>41.12170</td>\n",
       "      <td>21.0171</td>\n",
       "      <td>7.56704</td>\n",
       "      <td>...</td>\n",
       "      <td>-0.017384</td>\n",
       "      <td>-0.042614</td>\n",
       "      <td>0.015789</td>\n",
       "      <td>1.557550</td>\n",
       "      <td>-2.463880</td>\n",
       "      <td>-0.229701</td>\n",
       "      <td>-1.76913</td>\n",
       "      <td>-0.056214</td>\n",
       "      <td>-0.147568</td>\n",
       "      <td>-0.186554</td>\n",
       "    </tr>\n",
       "    <tr>\n",
       "      <th>2</th>\n",
       "      <td>1.02</td>\n",
       "      <td>-3.10896</td>\n",
       "      <td>-77.94060</td>\n",
       "      <td>32.42640</td>\n",
       "      <td>33.46660</td>\n",
       "      <td>-13.8234</td>\n",
       "      <td>0.361226</td>\n",
       "      <td>6.98135</td>\n",
       "      <td>-95.2976</td>\n",
       "      <td>12.93760</td>\n",
       "      <td>...</td>\n",
       "      <td>-0.022391</td>\n",
       "      <td>-0.065396</td>\n",
       "      <td>-0.013471</td>\n",
       "      <td>0.923230</td>\n",
       "      <td>-2.324450</td>\n",
       "      <td>-0.229889</td>\n",
       "      <td>-1.34847</td>\n",
       "      <td>-0.043826</td>\n",
       "      <td>-0.129357</td>\n",
       "      <td>-0.124287</td>\n",
       "    </tr>\n",
       "    <tr>\n",
       "      <th>3</th>\n",
       "      <td>1.09</td>\n",
       "      <td>17.64220</td>\n",
       "      <td>8.84109</td>\n",
       "      <td>-6.15300</td>\n",
       "      <td>24.10360</td>\n",
       "      <td>-35.8054</td>\n",
       "      <td>6.110810</td>\n",
       "      <td>19.21670</td>\n",
       "      <td>35.4884</td>\n",
       "      <td>-19.44210</td>\n",
       "      <td>...</td>\n",
       "      <td>-0.035660</td>\n",
       "      <td>-0.028789</td>\n",
       "      <td>-0.065465</td>\n",
       "      <td>0.542534</td>\n",
       "      <td>-0.922586</td>\n",
       "      <td>-0.102834</td>\n",
       "      <td>-1.16123</td>\n",
       "      <td>-0.034683</td>\n",
       "      <td>-0.061931</td>\n",
       "      <td>-0.107000</td>\n",
       "    </tr>\n",
       "    <tr>\n",
       "      <th>4</th>\n",
       "      <td>1.15</td>\n",
       "      <td>18.66880</td>\n",
       "      <td>6.43449</td>\n",
       "      <td>13.12820</td>\n",
       "      <td>3.59835</td>\n",
       "      <td>-46.4173</td>\n",
       "      <td>14.478700</td>\n",
       "      <td>8.84451</td>\n",
       "      <td>-18.5754</td>\n",
       "      <td>11.43790</td>\n",
       "      <td>...</td>\n",
       "      <td>-0.027112</td>\n",
       "      <td>0.011121</td>\n",
       "      <td>-0.093665</td>\n",
       "      <td>-0.022048</td>\n",
       "      <td>-0.243190</td>\n",
       "      <td>-0.040329</td>\n",
       "      <td>-1.10010</td>\n",
       "      <td>-0.036075</td>\n",
       "      <td>-0.040002</td>\n",
       "      <td>-0.105458</td>\n",
       "    </tr>\n",
       "  </tbody>\n",
       "</table>\n",
       "<p>5 rows × 38 columns</p>\n",
       "</div>"
      ],
      "text/plain": [
       "   time  pelvis_tilt  pelvis_list  pelvis_rotation  pelvis_tx  pelvis_ty  \\\n",
       "0  0.90      3.80601   -109.08100         25.91790  -12.28850   -23.3508   \n",
       "1  0.96     16.07250     62.57550         -3.57053   -9.78142   -43.7574   \n",
       "2  1.02     -3.10896    -77.94060         32.42640   33.46660   -13.8234   \n",
       "3  1.09     17.64220      8.84109         -6.15300   24.10360   -35.8054   \n",
       "4  1.15     18.66880      6.43449         13.12820    3.59835   -46.4173   \n",
       "\n",
       "   pelvis_tz  hip_flexion_r  hip_adduction_r  hip_rotation_r     ...       \\\n",
       "0  17.262200       31.19390         -32.5240        14.07950     ...        \n",
       "1  16.488000       41.12170          21.0171         7.56704     ...        \n",
       "2   0.361226        6.98135         -95.2976        12.93760     ...        \n",
       "3   6.110810       19.21670          35.4884       -19.44210     ...        \n",
       "4  14.478700        8.84451         -18.5754        11.43790     ...        \n",
       "\n",
       "   pro_sup_r  wrist_flex_r  wrist_dev_r  arm_flex_l  arm_add_l  arm_rot_l  \\\n",
       "0  -0.007249     -0.034830     0.074835    2.263660  -2.165660  -0.162947   \n",
       "1  -0.017384     -0.042614     0.015789    1.557550  -2.463880  -0.229701   \n",
       "2  -0.022391     -0.065396    -0.013471    0.923230  -2.324450  -0.229889   \n",
       "3  -0.035660     -0.028789    -0.065465    0.542534  -0.922586  -0.102834   \n",
       "4  -0.027112      0.011121    -0.093665   -0.022048  -0.243190  -0.040329   \n",
       "\n",
       "   elbow_flex_l  pro_sup_l  wrist_flex_l  wrist_dev_l  \n",
       "0      -1.95140  -0.056017     -0.124315    -0.208265  \n",
       "1      -1.76913  -0.056214     -0.147568    -0.186554  \n",
       "2      -1.34847  -0.043826     -0.129357    -0.124287  \n",
       "3      -1.16123  -0.034683     -0.061931    -0.107000  \n",
       "4      -1.10010  -0.036075     -0.040002    -0.105458  \n",
       "\n",
       "[5 rows x 38 columns]"
      ]
     },
     "execution_count": 11,
     "metadata": {},
     "output_type": "execute_result"
    }
   ],
   "source": [
    "jm_rt = pd.read_csv('tau.csv')\n",
    "jm_rt.head()"
   ]
  },
  {
   "cell_type": "code",
   "execution_count": null,
   "metadata": {
    "collapsed": true
   },
   "outputs": [],
   "source": []
  }
 ],
 "metadata": {
  "kernelspec": {
   "display_name": "Python 2",
   "language": "python",
   "name": "python2"
  },
  "language_info": {
   "codemirror_mode": {
    "name": "ipython",
    "version": 2
   },
   "file_extension": ".py",
   "mimetype": "text/x-python",
   "name": "python",
   "nbconvert_exporter": "python",
   "pygments_lexer": "ipython2",
   "version": "2.7.10"
  }
 },
 "nbformat": 4,
 "nbformat_minor": 0
}
